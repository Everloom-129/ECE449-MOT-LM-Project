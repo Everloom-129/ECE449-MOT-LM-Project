{
 "cells": [
  {
   "cell_type": "code",
   "execution_count": null,
   "metadata": {},
   "outputs": [],
   "source": []
  },
  {
   "cell_type": "markdown",
   "metadata": {},
   "source": [
    "# Retrain \n",
    "- Old training set\n",
    "- [1, 2, 3, 4, 6, 7, 8, 9, 10, 12, 14, 15, 16, 18, 20]\n",
    "- New training set\n",
    "- [01, 02, 03, 04, 06, 07, 08, 09, 10, 12, 14 ]\n",
    "```\n",
    "a slice of old one in 'refer-kitti.train':\n",
    "\n",
    "KITTI/training/image_02/0001/000151.png\n",
    "KITTI/training/image_02/0001/000152.png\n",
    "KITTI/training/image_02/0001/000153.png\n",
    "```\n",
    "\n",
    "We need to read from the dataset and load the image sequence id into 'refer-kitti.train' as below:\n"
   ]
  },
  {
   "cell_type": "markdown",
   "metadata": {},
   "source": [
    "The new training set listed is a subset of the original training set ids. The difference between the two lists is that the new training set omits `[15, 16, 18, 20]`.\n",
    "\n",
    "These ids correspond to the specific video sequences that have been removed from the new training set. The reason may be to simplify the training computation;\n",
    "\n",
    "This decrease the training set  `5625`  from to `3868` "
   ]
  },
  {
   "cell_type": "code",
   "execution_count": 10,
   "metadata": {},
   "outputs": [
    {
     "name": "stdout",
     "output_type": "stream",
     "text": [
      "['0001', '0002', '0003', '0004', '0006', '0007', '0008', '0009', '0010', '0012', '0014', '0015', '0016', '0018', '0020']\n",
      "started 0001\n",
      "0001 length is 000446.png \n",
      "started 0002\n",
      "0002 length is 000232.png \n",
      "started 0003\n",
      "0003 length is 000143.png \n",
      "started 0004\n",
      "0004 length is 000313.png \n",
      "started 0006\n",
      "0006 length is 000269.png \n",
      "started 0007\n",
      "0007 length is 000799.png \n",
      "started 0008\n",
      "0008 length is 000389.png \n",
      "started 0009\n",
      "0009 length is 000802.png \n",
      "started 0010\n",
      "0010 length is 000293.png \n",
      "started 0012\n",
      "0012 length is 000077.png \n",
      "started 0014\n",
      "0014 length is 000105.png \n",
      "started 0015\n",
      "0015 length is 000375.png \n",
      "started 0016\n",
      "0016 length is 000208.png \n",
      "started 0018\n",
      "0018 length is 000338.png \n",
      "started 0020\n",
      "0020 length is 000836.png \n",
      "5625 Image sequence IDs have been written to refer-kitti.train.\n"
     ]
    }
   ],
   "source": [
    "import os\n",
    "\n",
    "# Set the path to the image sequences\n",
    "image_seq_path = './refer-kitti/KITTI/training/image_02'\n",
    "\n",
    "# Define the new training set sequence IDs\n",
    "\n",
    "new_training_set = ['0001', '0002', '0003', '0004', '0006', '0007', '0008', '0009', '0010', '0012', '0014']\n",
    "\n",
    "\n",
    "old_training_set = new_training_set + ['0015', '0016', '0018', '0020']\n",
    "print(old_training_set)\n",
    "# Open a new file to write the image sequence IDs\n",
    "with open('refer-kitti.train', 'w') as file:\n",
    "    # Iterate over each sequence ID in the new training set\n",
    "    image_number = 0\n",
    "    for seq_id in old_training_set:\n",
    "        print(f\"started {seq_id}\")\n",
    "        # Construct the full path to the sequence directory\n",
    "        seq_path = os.path.join(image_seq_path, seq_id)\n",
    "        \n",
    "        # Check if the sequence directory exists\n",
    "        if os.path.isdir(seq_path):\n",
    "            # List all image files in the sequence directory\n",
    "            images = sorted(os.listdir(seq_path))\n",
    "            \n",
    "            # Write each image filename to the file\n",
    "            for image in images:\n",
    "                if image.endswith('.png'):\n",
    "                    file.write(f'KITTI/training/image_02/{seq_id}/{image}\\n')\n",
    "            print(f\"{seq_id} length is {image} \")\n",
    "            image_number += int(image[:-4])\n",
    "        else:\n",
    "            print(f'Sequence directory {seq_path} does not exist.')\n",
    "\n",
    "print(f'{image_number} Image sequence IDs have been written to refer-kitti.train.')\n"
   ]
  },
  {
   "cell_type": "markdown",
   "metadata": {},
   "source": [
    "## Original Dataset Split\n",
    "KITTI provides 21 high-resolution and longtemporal videos, but we abandon three over-complex videos and use the remaining 18 videos to formulate Refer-KITTI.\n",
    "\n",
    "We create a total of 818 expressions for Refer-KITTI using our labeling tool. \n",
    "\n",
    "The word cloud of the expressions is shown in Fig. 4 (a). \n",
    "<!-- todo: what is its meaning? -->\n",
    "Refer-KITTI is randomly split into separate train, and test sets, yielding a unique split consisting of 15 training videos and 3 testing videos."
   ]
  },
  {
   "cell_type": "code",
   "execution_count": null,
   "metadata": {},
   "outputs": [],
   "source": []
  }
 ],
 "metadata": {
  "kernelspec": {
   "display_name": "base",
   "language": "python",
   "name": "python3"
  },
  "language_info": {
   "codemirror_mode": {
    "name": "ipython",
    "version": 3
   },
   "file_extension": ".py",
   "mimetype": "text/x-python",
   "name": "python",
   "nbconvert_exporter": "python",
   "pygments_lexer": "ipython3",
   "version": "3.8.10"
  }
 },
 "nbformat": 4,
 "nbformat_minor": 2
}
